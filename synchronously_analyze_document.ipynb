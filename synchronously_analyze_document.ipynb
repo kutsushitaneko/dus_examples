{
 "cells": [
  {
   "cell_type": "markdown",
   "metadata": {},
   "source": [
    "## OCI Document Understanding による同期OCRサンプルコード\n",
    "本サンプルコードは処理の流れをご理解いただくことを目的としているためエラー処理は省かれています。"
   ]
  },
  {
   "cell_type": "markdown",
   "metadata": {},
   "source": [
    "### 関連ドキュメント\n",
    "[API のリファレンス](https://docs.oracle.com/en-us/iaas/api/#/en/document-understanding/20221109/)\n",
    "\n",
    "SDK のドキュメント\n",
    "- [AIServiceDocumentClient](https://docs.oracle.com/en-us/iaas/tools/python/2.141.0/api/ai_document/client/oci.ai_document.AIServiceDocumentClient.html)\n",
    "- [AIServiceDocumentClient.analyze_document()](https://docs.oracle.com/en-us/iaas/tools/python/latest/api/ai_document/client/oci.ai_document.AIServiceDocumentClient.html#oci.ai_document.AIServiceDocumentClient.analyze_document)\n",
    "- [models.AnalyzeDocumentDetails()](https://docs.oracle.com/en-us/iaas/tools/python/latest/api/ai_document/models/oci.ai_document.models.AnalyzeDocumentDetails.html)\n",
    "    - [models.DocumentFeature()](https://docs.oracle.com/en-us/iaas/tools/python/latest/api/ai_document/models/oci.ai_document.models.DocumentFeature.html#oci.ai_document.models.DocumentFeature)\n",
    "        - [models.DocumentTextExtractionFeature()](https://docs.oracle.com/en-us/iaas/tools/python/latest/api/ai_document/models/oci.ai_document.models.DocumentTextExtractionFeature.html#oci.ai_document.models.DocumentTextExtractionFeature)\n",
    "    - [models.DocumentDetails()](https://docs.oracle.com/en-us/iaas/tools/python/latest/api/ai_document/models/oci.ai_document.models.DocumentDetails.html#oci.ai_document.models.DocumentDetails)\n",
    "        - [models.InlineDocumentDetails()](https://docs.oracle.com/en-us/iaas/tools/python/2.141.0/api/ai_document/models/oci.ai_document.models.InlineDocumentDetails.html#oci.ai_document.models.InlineDocumentDetails)\n",
    "- [models.AnalyzeDocumentResult()](https://docs.oracle.com/en-us/iaas/tools/python/latest/api/ai_document/models/oci.ai_document.models.AnalyzeDocumentResult.html#oci.ai_document.models.AnalyzeDocumentResult)\n",
    "    - [models.Page()](https://docs.oracle.com/en-us/iaas/tools/python/latest/api/ai_document/models/oci.ai_document.models.Page.html#oci.ai_document.models.Page)"
   ]
  },
  {
   "cell_type": "markdown",
   "metadata": {},
   "source": [
    "## パッケージのインストール\n",
    "OCI の SDK と dotenv パッケージをインストールします。\n"
   ]
  },
  {
   "cell_type": "code",
   "execution_count": 1,
   "metadata": {},
   "outputs": [
    {
     "name": "stdout",
     "output_type": "stream",
     "text": [
      "Requirement already satisfied: oci in .\\.venv\\lib\\site-packages (2.141.1)\n",
      "Requirement already satisfied: certifi in .\\.venv\\lib\\site-packages (from oci) (2024.12.14)\n",
      "Requirement already satisfied: cryptography<46.0.0,>=3.2.1 in .\\.venv\\lib\\site-packages (from oci) (44.0.0)\n",
      "Requirement already satisfied: pyOpenSSL<25.0.0,>=17.5.0 in .\\.venv\\lib\\site-packages (from oci) (24.3.0)\n",
      "Requirement already satisfied: python-dateutil<3.0.0,>=2.5.3 in .\\.venv\\lib\\site-packages (from oci) (2.9.0.post0)\n",
      "Requirement already satisfied: pytz>=2016.10 in .\\.venv\\lib\\site-packages (from oci) (2024.2)\n",
      "Requirement already satisfied: circuitbreaker<3.0.0,>=1.3.1 in .\\.venv\\lib\\site-packages (from oci) (2.0.0)\n",
      "Requirement already satisfied: cffi>=1.12 in .\\.venv\\lib\\site-packages (from cryptography<46.0.0,>=3.2.1->oci) (1.17.1)\n",
      "Requirement already satisfied: six>=1.5 in .\\.venv\\lib\\site-packages (from python-dateutil<3.0.0,>=2.5.3->oci) (1.17.0)\n",
      "Requirement already satisfied: pycparser in .\\.venv\\lib\\site-packages (from cffi>=1.12->cryptography<46.0.0,>=3.2.1->oci) (2.22)\n",
      "Note: you may need to restart the kernel to use updated packages.\n",
      "Requirement already satisfied: python-dotenv in .\\.venv\\lib\\site-packages (1.0.1)\n",
      "Note: you may need to restart the kernel to use updated packages.\n"
     ]
    }
   ],
   "source": [
    "%pip install oci\n",
    "%pip install python-dotenv"
   ]
  },
  {
   "cell_type": "markdown",
   "metadata": {},
   "source": [
    "### パッケージの import"
   ]
  },
  {
   "cell_type": "code",
   "execution_count": 2,
   "metadata": {},
   "outputs": [],
   "source": [
    "import os\n",
    "import base64\n",
    "import oci\n",
    "from dotenv import load_dotenv\n"
   ]
  },
  {
   "cell_type": "markdown",
   "metadata": {},
   "source": [
    "### 環境変数の設定\n",
    ".env ファイルに定義された変数を環境変数に設定します。ここでは、OCI のコンパートメントID(OCI_COMPARTMENT_ID) を設定します。\n",
    "\n",
    "本ノートブックと同じディレクトリに .env_example ファイルの書式で 予め .env ファイルを作成してください。"
   ]
  },
  {
   "cell_type": "code",
   "execution_count": 3,
   "metadata": {},
   "outputs": [
    {
     "name": "stdout",
     "output_type": "stream",
     "text": [
      "OCI_COMPARTMENT_ID = ocid1.compartment.oc1..aaaaaaaa75dbxnfefpvpz4uhwm37uycicrhkmnpnzwldy6ol7ye6ryj5uvva\n"
     ]
    }
   ],
   "source": [
    "load_dotenv()\n",
    "print(f'OCI_COMPARTMENT_ID = {os.getenv(\"OCI_COMPARTMENT_ID\")}')"
   ]
  },
  {
   "cell_type": "markdown",
   "metadata": {},
   "source": [
    "### 解析対象画像と解析結果の出力先の定義"
   ]
  },
  {
   "cell_type": "code",
   "execution_count": 4,
   "metadata": {},
   "outputs": [],
   "source": [
    "# 解析する画像の定義\n",
    "target_file=\"images/冷凍食品2.JPG\"\n",
    "# OCRで抽出したデデータの出力先ファイル（json形式）の定義\n",
    "output_file = \"output/\" + os.path.splitext(os.path.basename(target_file))[0] + \".json\""
   ]
  },
  {
   "cell_type": "markdown",
   "metadata": {},
   "source": [
    "### OCI 認証設定\n",
    "- CONFIG_PROFILE：構成ファイルに定義されたプロファイル名\n",
    "- config : SDK and Tool Configuration（認証に関する構成情報を定義するディクショナリー）[リファレンス](https://docs.oracle.com/en-us/iaas/tools/python/latest/configuration.html)\n",
    "\n",
    "参考ドキュメント\n",
    "- [SDKおよびCLIの構成ファイル](https://docs.oracle.com/ja-jp/iaas/Content/API/Concepts/sdkconfig.htm)\n",
    "- [Configuration](https://docs.oracle.com/en-us/iaas/tools/python/latest/configuration.html)"
   ]
  },
  {
   "cell_type": "code",
   "execution_count": 5,
   "metadata": {},
   "outputs": [],
   "source": [
    "CONFIG_PROFILE = \"DEFAULT\" # 構成ファイルに合わせて変更してください。\n",
    "config = oci.config.from_file(file_location='~/.oci/config', profile_name=CONFIG_PROFILE)"
   ]
  },
  {
   "cell_type": "markdown",
   "metadata": {},
   "source": [
    "### OCI Document Understanding サービスクライアントの初期化\n",
    "\n",
    "参考ドキュメント\n",
    "\n",
    "- [AIServiceDocumentClient](https://docs.oracle.com/en-us/iaas/tools/python/latest/api/ai_document/client/oci.ai_document.AIServiceDocumentClient.html)"
   ]
  },
  {
   "cell_type": "code",
   "execution_count": 6,
   "metadata": {},
   "outputs": [],
   "source": [
    "ai_document_client = oci.ai_document.AIServiceDocumentClient(config)"
   ]
  },
  {
   "cell_type": "markdown",
   "metadata": {},
   "source": [
    "### 画像ファイルの準備"
   ]
  },
  {
   "cell_type": "code",
   "execution_count": 7,
   "metadata": {},
   "outputs": [],
   "source": [
    "# 画像ファイルを読み込んでbase64エンコード\n",
    "with open(target_file, 'rb') as image_file:\n",
    "    encoded_string = base64.b64encode(image_file.read()).decode('utf-8')"
   ]
  },
  {
   "cell_type": "markdown",
   "metadata": {},
   "source": [
    "### 分析の実行\n",
    "参考ドキュメント\n",
    "- [AIServiceDocumentClient.analyze_document()](https://docs.oracle.com/en-us/iaas/tools/python/latest/api/ai_document/client/oci.ai_document.AIServiceDocumentClient.html#oci.ai_document.AIServiceDocumentClient.analyze_document)\n",
    "- [models.AnalyzeDocumentDetails()](https://docs.oracle.com/en-us/iaas/tools/python/latest/api/ai_document/models/oci.ai_document.models.AnalyzeDocumentDetails.html)\n",
    "    - [models.DocumentFeature()](https://docs.oracle.com/en-us/iaas/tools/python/latest/api/ai_document/models/oci.ai_document.models.DocumentFeature.html#oci.ai_document.models.DocumentFeature)\n",
    "        - [models.DocumentTextExtractionFeature()](https://docs.oracle.com/en-us/iaas/tools/python/latest/api/ai_document/models/oci.ai_document.models.DocumentTextExtractionFeature.html#oci.ai_document.models.DocumentTextExtractionFeature)\n",
    "- [models.DocumentDetails()](https://docs.oracle.com/en-us/iaas/tools/python/latest/api/ai_document/models/oci.ai_document.models.DocumentDetails.html#oci.ai_document.models.DocumentDetails)\n",
    "    - [models.InlineDocumentDetails()](https://docs.oracle.com/en-us/iaas/tools/python/2.141.0/api/ai_document/models/oci.ai_document.models.InlineDocumentDetails.html#oci.ai_document.models.InlineDocumentDetails)"
   ]
  },
  {
   "cell_type": "code",
   "execution_count": 8,
   "metadata": {},
   "outputs": [],
   "source": [
    "analyze_document_response = ai_document_client.analyze_document(\n",
    "    analyze_document_details=oci.ai_document.models.AnalyzeDocumentDetails(\n",
    "        features=[\n",
    "            #oci.ai_document.models.DocumentKeyValueExtractionFeature(\n",
    "            oci.ai_document.models.DocumentTextExtractionFeature(\n",
    "                feature_type=\"TEXT_EXTRACTION\") # テキスト抽出機能を指定する\n",
    "        ],\n",
    "        document=oci.ai_document.models.InlineDocumentDetails(\n",
    "            source=\"INLINE\", # インラインドキュメントを指定する\n",
    "            data=encoded_string), # 画像ファイルをbase64エンコードした文字列を指定する\n",
    "        compartment_id=os.getenv(\"OCI_COMPARTMENT_ID\"), # コンパートメントIDを指定する\n",
    "    )\n",
    ")\n"
   ]
  },
  {
   "cell_type": "markdown",
   "metadata": {},
   "source": [
    "### 分析結果の取得とファイル出力\n",
    "参考ドキュメント\n",
    "- [models.AnalyzeDocumentResult()](https://docs.oracle.com/en-us/iaas/tools/python/latest/api/ai_document/models/oci.ai_document.models.AnalyzeDocumentResult.html#oci.ai_document.models.AnalyzeDocumentResult)\n",
    "    - [models.Page()](https://docs.oracle.com/en-us/iaas/tools/python/latest/api/ai_document/models/oci.ai_document.models.Page.html#oci.ai_document.models.Page)"
   ]
  },
  {
   "cell_type": "code",
   "execution_count": 9,
   "metadata": {},
   "outputs": [
    {
     "name": "stdout",
     "output_type": "stream",
     "text": [
      "OCR結果を output/冷凍食品2.json に保存しました。\n"
     ]
    }
   ],
   "source": [
    "# レスポンスからOCRデータを取得\n",
    "ocr_result = analyze_document_response.data\n",
    "with open(output_file, 'w', encoding='utf-8') as f:\n",
    "    f.write(str(ocr_result))\n",
    "\n",
    "print(f\"OCR結果を {output_file} に保存しました。\")"
   ]
  },
  {
   "cell_type": "markdown",
   "metadata": {},
   "source": [
    "### ページ数の表示"
   ]
  },
  {
   "cell_type": "code",
   "execution_count": 10,
   "metadata": {},
   "outputs": [
    {
     "name": "stdout",
     "output_type": "stream",
     "text": [
      "1\n"
     ]
    }
   ],
   "source": [
    "print(len(ocr_result.pages))"
   ]
  },
  {
   "cell_type": "markdown",
   "metadata": {},
   "source": [
    "### 入力画像のディメンジョンの表示（高さ、幅、単位）\n",
    "（この例では1ページ目（インデックスが\"0\"）のみを表示）"
   ]
  },
  {
   "cell_type": "code",
   "execution_count": 11,
   "metadata": {},
   "outputs": [
    {
     "name": "stdout",
     "output_type": "stream",
     "text": [
      "PIXEL\n",
      "2063.0\n",
      "2751.0\n"
     ]
    }
   ],
   "source": [
    "print(ocr_result.pages[0].dimensions.unit)\n",
    "print(ocr_result.pages[0].dimensions.height)\n",
    "print(ocr_result.pages[0].dimensions.width)\n",
    "\n",
    "\n"
   ]
  },
  {
   "cell_type": "markdown",
   "metadata": {},
   "source": [
    "### 抽出した行数の表示\n",
    "（この例では1ページ目（インデックスが\"0\"）に含まれる行数のみを表示）"
   ]
  },
  {
   "cell_type": "code",
   "execution_count": 12,
   "metadata": {},
   "outputs": [
    {
     "name": "stdout",
     "output_type": "stream",
     "text": [
      "3\n"
     ]
    }
   ],
   "source": [
    "print(len(ocr_result.pages[0].lines))"
   ]
  },
  {
   "cell_type": "markdown",
   "metadata": {},
   "source": [
    "### 抽出した行のテキストの表示\n",
    "(この例では1ページ目（インデックスが\"0\"）のすべての行の信頼度スコアとテキストを表示)"
   ]
  },
  {
   "cell_type": "code",
   "execution_count": 13,
   "metadata": {},
   "outputs": [
    {
     "name": "stdout",
     "output_type": "stream",
     "text": [
      "行 1:信頼度スコア:0.9888422:テキスト: pal*system :\n",
      "行 2:信頼度スコア:0.9615195:テキスト: 24.12.25 :\n",
      "行 3:信頼度スコア:0.9427238:テキスト: 25. 6. 22 :\n"
     ]
    }
   ],
   "source": [
    "for i, line in enumerate(ocr_result.pages[0].lines):\n",
    "    print(f\"行 {i+1}:信頼度スコア:{line.confidence}:テキスト: {line.text} :\")"
   ]
  },
  {
   "cell_type": "markdown",
   "metadata": {},
   "source": [
    "### 行の境界ポリゴンの座標の表示\n",
    "(この例では1ページ目（インデックスが\"0\"）のすべての行のテキストと境界ポリゴンの座標を表示)"
   ]
  },
  {
   "cell_type": "code",
   "execution_count": 14,
   "metadata": {},
   "outputs": [
    {
     "name": "stdout",
     "output_type": "stream",
     "text": [
      "\n",
      "行 1: pal*system\n",
      "座標: [{\n",
      "  \"x\": 0.6361323155216285,\n",
      "  \"y\": 0.2617547261269995\n",
      "}, {\n",
      "  \"x\": 0.3667757179207561,\n",
      "  \"y\": 0.2685409597673291\n",
      "}, {\n",
      "  \"x\": 0.3656852053798619,\n",
      "  \"y\": 0.19825496849248667\n",
      "}, {\n",
      "  \"x\": 0.6350418029807343,\n",
      "  \"y\": 0.19146873485215704\n",
      "}]\n",
      "\n",
      "行 2: 24.12.25\n",
      "座標: [{\n",
      "  \"x\": 0.5648854961832062,\n",
      "  \"y\": 0.5147842947164324\n",
      "}, {\n",
      "  \"x\": 0.7728098873137041,\n",
      "  \"y\": 0.5147842947164324\n",
      "}, {\n",
      "  \"x\": 0.7728098873137041,\n",
      "  \"y\": 0.5545322346097916\n",
      "}, {\n",
      "  \"x\": 0.5648854961832062,\n",
      "  \"y\": 0.5545322346097916\n",
      "}]\n",
      "\n",
      "行 3: 25. 6. 22\n",
      "座標: [{\n",
      "  \"x\": 0.5685205379861868,\n",
      "  \"y\": 0.5787687833252545\n",
      "}, {\n",
      "  \"x\": 0.826608505997819,\n",
      "  \"y\": 0.58167716917111\n",
      "}, {\n",
      "  \"x\": 0.8262450018175209,\n",
      "  \"y\": 0.6214251090644692\n",
      "}, {\n",
      "  \"x\": 0.5681570338058888,\n",
      "  \"y\": 0.619001454192923\n",
      "}]\n"
     ]
    }
   ],
   "source": [
    "for i, line in enumerate(ocr_result.pages[0].lines):\n",
    "    print(f\"\\n行 {i+1}: {line.text}\")\n",
    "    print(f\"座標: {line.bounding_polygon.normalized_vertices}\")"
   ]
  },
  {
   "cell_type": "markdown",
   "metadata": {},
   "source": [
    "### 単語数の表示\n",
    "（この例では1ページ目（インデックスが\"0\"）に含まれる単語数のみを表示）"
   ]
  },
  {
   "cell_type": "code",
   "execution_count": 15,
   "metadata": {},
   "outputs": [
    {
     "name": "stdout",
     "output_type": "stream",
     "text": [
      "5\n"
     ]
    }
   ],
   "source": [
    "print(len(ocr_result.pages[0].words))"
   ]
  },
  {
   "cell_type": "markdown",
   "metadata": {},
   "source": [
    "### 抽出した単語のテキストの表示\n",
    "(この例では1ページ目（インデックスが\"0\"）のすべての単語の信頼度スコアとテキストを表示)"
   ]
  },
  {
   "cell_type": "code",
   "execution_count": 16,
   "metadata": {},
   "outputs": [
    {
     "name": "stdout",
     "output_type": "stream",
     "text": [
      "行 1:信頼度スコア:0.9888422:テキスト: pal*system :\n",
      "行 2:信頼度スコア:0.9615195:テキスト: 24.12.25 :\n",
      "行 3:信頼度スコア:0.9427238:テキスト: 25. :\n",
      "行 4:信頼度スコア:0.9427238:テキスト: 6. :\n",
      "行 5:信頼度スコア:0.9427238:テキスト: 22 :\n"
     ]
    }
   ],
   "source": [
    "for i, word in enumerate(ocr_result.pages[0].words):\n",
    "    print(f\"行 {i+1}:信頼度スコア:{word.confidence}:テキスト: {word.text} :\")"
   ]
  },
  {
   "cell_type": "markdown",
   "metadata": {},
   "source": [
    "### 抽出した単語の境界ポリゴンの座標の表示\n",
    "(この例では1ページ目（インデックスが\"0\"）のすべての単語のテキストと境界ポリゴンの座標を表示)"
   ]
  },
  {
   "cell_type": "code",
   "execution_count": 17,
   "metadata": {},
   "outputs": [
    {
     "name": "stdout",
     "output_type": "stream",
     "text": [
      "\n",
      "単語 1: pal*system\n",
      "座標: [{\n",
      "  \"x\": 0.6361323155216285,\n",
      "  \"y\": 0.2617547261269995\n",
      "}, {\n",
      "  \"x\": 0.3667757179207561,\n",
      "  \"y\": 0.2685409597673291\n",
      "}, {\n",
      "  \"x\": 0.3656852053798619,\n",
      "  \"y\": 0.19825496849248667\n",
      "}, {\n",
      "  \"x\": 0.6350418029807343,\n",
      "  \"y\": 0.19146873485215704\n",
      "}]\n",
      "\n",
      "単語 2: 24.12.25\n",
      "座標: [{\n",
      "  \"x\": 0.5648854961832062,\n",
      "  \"y\": 0.5147842947164324\n",
      "}, {\n",
      "  \"x\": 0.7728098873137041,\n",
      "  \"y\": 0.5147842947164324\n",
      "}, {\n",
      "  \"x\": 0.7728098873137041,\n",
      "  \"y\": 0.5545322346097916\n",
      "}, {\n",
      "  \"x\": 0.5648854961832062,\n",
      "  \"y\": 0.5545322346097916\n",
      "}]\n",
      "\n",
      "単語 3: 25.\n",
      "座標: [{\n",
      "  \"x\": 0.5685205379861868,\n",
      "  \"y\": 0.5787687833252545\n",
      "}, {\n",
      "  \"x\": 0.6907104802798982,\n",
      "  \"y\": 0.5801457577519086\n",
      "}, {\n",
      "  \"x\": 0.6903513690334196,\n",
      "  \"y\": 0.6196669533711524\n",
      "}, {\n",
      "  \"x\": 0.5681614267397083,\n",
      "  \"y\": 0.6185167232186136\n",
      "}]\n",
      "\n",
      "単語 4: 6.\n",
      "座標: [{\n",
      "  \"x\": 0.6907104802798982,\n",
      "  \"y\": 0.5801457577519086\n",
      "}, {\n",
      "  \"x\": 0.7349959123528944,\n",
      "  \"y\": 0.5806448081715039\n",
      "}, {\n",
      "  \"x\": 0.7346368011064158,\n",
      "  \"y\": 0.6200838149085071\n",
      "}, {\n",
      "  \"x\": 0.6903513690334196,\n",
      "  \"y\": 0.6196669533711524\n",
      "}]\n",
      "\n",
      "単語 5: 22\n",
      "座標: [{\n",
      "  \"x\": 0.7386177309813476,\n",
      "  \"y\": 0.5806855771706859\n",
      "}, {\n",
      "  \"x\": 0.8262493503782715,\n",
      "  \"y\": 0.5816731455253272\n",
      "}, {\n",
      "  \"x\": 0.8258902835048618,\n",
      "  \"y\": 0.6209428632831435\n",
      "}, {\n",
      "  \"x\": 0.7382585753618003,\n",
      "  \"y\": 0.6201179567263997\n",
      "}]\n"
     ]
    }
   ],
   "source": [
    "for i, word in enumerate(ocr_result.pages[0].words):\n",
    "    print(f\"\\n単語 {i+1}: {word.text}\")\n",
    "    print(f\"座標: {word.bounding_polygon.normalized_vertices}\")"
   ]
  },
  {
   "cell_type": "code",
   "execution_count": null,
   "metadata": {},
   "outputs": [],
   "source": []
  }
 ],
 "metadata": {
  "kernelspec": {
   "display_name": ".venv",
   "language": "python",
   "name": "python3"
  },
  "language_info": {
   "codemirror_mode": {
    "name": "ipython",
    "version": 3
   },
   "file_extension": ".py",
   "mimetype": "text/x-python",
   "name": "python",
   "nbconvert_exporter": "python",
   "pygments_lexer": "ipython3",
   "version": "3.11.9"
  }
 },
 "nbformat": 4,
 "nbformat_minor": 2
}
