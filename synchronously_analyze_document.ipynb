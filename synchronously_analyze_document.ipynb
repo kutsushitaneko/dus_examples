{
 "cells": [
  {
   "cell_type": "markdown",
   "metadata": {},
   "source": [
    "## OCI Document Understanding による同期OCRサンプルコード\n",
    "本サンプルコードは処理の流れをご理解いただくことを目的としているためエラー処理は省かれています。"
   ]
  },
  {
   "cell_type": "markdown",
   "metadata": {},
   "source": [
    "### 関連ドキュメント\n",
    "[API のリファレンス](https://docs.oracle.com/en-us/iaas/api/#/en/document-understanding/20221109/)\n",
    "\n",
    "SDK のドキュメント\n",
    "- [AIServiceDocumentClient](https://docs.oracle.com/en-us/iaas/tools/python/2.141.0/api/ai_document/client/oci.ai_document.AIServiceDocumentClient.html)\n",
    "- [AIServiceDocumentClient.analyze_document()](https://docs.oracle.com/en-us/iaas/tools/python/latest/api/ai_document/client/oci.ai_document.AIServiceDocumentClient.html#oci.ai_document.AIServiceDocumentClient.analyze_document)\n",
    "- [models.AnalyzeDocumentDetails()](https://docs.oracle.com/en-us/iaas/tools/python/latest/api/ai_document/models/oci.ai_document.models.AnalyzeDocumentDetails.html)\n",
    "    - [models.DocumentFeature()](https://docs.oracle.com/en-us/iaas/tools/python/latest/api/ai_document/models/oci.ai_document.models.DocumentFeature.html#oci.ai_document.models.DocumentFeature)\n",
    "        - [models.DocumentTextExtractionFeature()](https://docs.oracle.com/en-us/iaas/tools/python/latest/api/ai_document/models/oci.ai_document.models.DocumentTextExtractionFeature.html#oci.ai_document.models.DocumentTextExtractionFeature)\n",
    "    - [models.DocumentDetails()](https://docs.oracle.com/en-us/iaas/tools/python/latest/api/ai_document/models/oci.ai_document.models.DocumentDetails.html#oci.ai_document.models.DocumentDetails)\n",
    "        - [models.InlineDocumentDetails()](https://docs.oracle.com/en-us/iaas/tools/python/2.141.0/api/ai_document/models/oci.ai_document.models.InlineDocumentDetails.html#oci.ai_document.models.InlineDocumentDetails)\n",
    "- [models.AnalyzeDocumentResult()](https://docs.oracle.com/en-us/iaas/tools/python/latest/api/ai_document/models/oci.ai_document.models.AnalyzeDocumentResult.html#oci.ai_document.models.AnalyzeDocumentResult)\n",
    "    - [models.Page()](https://docs.oracle.com/en-us/iaas/tools/python/latest/api/ai_document/models/oci.ai_document.models.Page.html#oci.ai_document.models.Page)"
   ]
  },
  {
   "cell_type": "markdown",
   "metadata": {},
   "source": [
    "## パッケージのインストール\n",
    "OCI の SDK と dotenv パッケージをインストールします。\n"
   ]
  },
  {
   "cell_type": "code",
   "execution_count": null,
   "metadata": {},
   "outputs": [],
   "source": [
    "%pip install oci\n",
    "%pip install python-dotenv"
   ]
  },
  {
   "cell_type": "markdown",
   "metadata": {},
   "source": [
    "### パッケージの import"
   ]
  },
  {
   "cell_type": "code",
   "execution_count": 2,
   "metadata": {},
   "outputs": [],
   "source": [
    "import os\n",
    "import base64\n",
    "import oci\n",
    "from dotenv import load_dotenv\n"
   ]
  },
  {
   "cell_type": "markdown",
   "metadata": {},
   "source": [
    "### 環境変数の設定\n",
    ".env ファイルに定義された変数を環境変数に設定します。ここでは、OCI のコンパートメントID(OCI_COMPARTMENT_ID) を設定します。\n",
    "\n",
    "本ノートブックと同じディレクトリに .env_example ファイルの書式で 予め .env ファイルを作成してください。"
   ]
  },
  {
   "cell_type": "code",
   "execution_count": null,
   "metadata": {},
   "outputs": [],
   "source": [
    "load_dotenv()\n",
    "print(f'OCI_COMPARTMENT_ID = {os.getenv(\"OCI_COMPARTMENT_ID\")}')"
   ]
  },
  {
   "cell_type": "markdown",
   "metadata": {},
   "source": [
    "### 解析対象画像と解析結果の出力先の定義"
   ]
  },
  {
   "cell_type": "code",
   "execution_count": 4,
   "metadata": {},
   "outputs": [],
   "source": [
    "# 解析する画像の定義\n",
    "target_file=\"images/冷凍食品2.JPG\"\n",
    "# OCRで抽出したデデータの出力先ファイル（json形式）の定義\n",
    "output_file = \"output/\" + os.path.splitext(os.path.basename(target_file))[0] + \".json\""
   ]
  },
  {
   "cell_type": "markdown",
   "metadata": {},
   "source": [
    "### OCI 認証設定\n",
    "- CONFIG_PROFILE：構成ファイルに定義されたプロファイル名\n",
    "- config : SDK and Tool Configuration（認証に関する構成情報を定義するディクショナリー）[リファレンス](https://docs.oracle.com/en-us/iaas/tools/python/latest/configuration.html)\n",
    "\n",
    "参考ドキュメント\n",
    "- [SDKおよびCLIの構成ファイル](https://docs.oracle.com/ja-jp/iaas/Content/API/Concepts/sdkconfig.htm)\n",
    "- [Configuration](https://docs.oracle.com/en-us/iaas/tools/python/latest/configuration.html)"
   ]
  },
  {
   "cell_type": "code",
   "execution_count": 5,
   "metadata": {},
   "outputs": [],
   "source": [
    "CONFIG_PROFILE = \"DEFAULT\" # 構成ファイルに合わせて変更してください。\n",
    "config = oci.config.from_file(file_location='~/.oci/config', profile_name=CONFIG_PROFILE)"
   ]
  },
  {
   "cell_type": "markdown",
   "metadata": {},
   "source": [
    "### OCI Document Understanding サービスクライアントの初期化\n",
    "\n",
    "参考ドキュメント\n",
    "\n",
    "- [AIServiceDocumentClient](https://docs.oracle.com/en-us/iaas/tools/python/latest/api/ai_document/client/oci.ai_document.AIServiceDocumentClient.html)"
   ]
  },
  {
   "cell_type": "code",
   "execution_count": 6,
   "metadata": {},
   "outputs": [],
   "source": [
    "ai_document_client = oci.ai_document.AIServiceDocumentClient(config)"
   ]
  },
  {
   "cell_type": "markdown",
   "metadata": {},
   "source": [
    "### 画像ファイルの準備"
   ]
  },
  {
   "cell_type": "code",
   "execution_count": 7,
   "metadata": {},
   "outputs": [],
   "source": [
    "# 画像ファイルを読み込んでbase64エンコード\n",
    "with open(target_file, 'rb') as image_file:\n",
    "    encoded_string = base64.b64encode(image_file.read()).decode('utf-8')"
   ]
  },
  {
   "cell_type": "markdown",
   "metadata": {},
   "source": [
    "### 分析の実行\n",
    "参考ドキュメント\n",
    "- [AIServiceDocumentClient.analyze_document()](https://docs.oracle.com/en-us/iaas/tools/python/latest/api/ai_document/client/oci.ai_document.AIServiceDocumentClient.html#oci.ai_document.AIServiceDocumentClient.analyze_document)\n",
    "- [models.AnalyzeDocumentDetails()](https://docs.oracle.com/en-us/iaas/tools/python/latest/api/ai_document/models/oci.ai_document.models.AnalyzeDocumentDetails.html)\n",
    "    - [models.DocumentFeature()](https://docs.oracle.com/en-us/iaas/tools/python/latest/api/ai_document/models/oci.ai_document.models.DocumentFeature.html#oci.ai_document.models.DocumentFeature)\n",
    "        - [models.DocumentTextExtractionFeature()](https://docs.oracle.com/en-us/iaas/tools/python/latest/api/ai_document/models/oci.ai_document.models.DocumentTextExtractionFeature.html#oci.ai_document.models.DocumentTextExtractionFeature)\n",
    "- [models.DocumentDetails()](https://docs.oracle.com/en-us/iaas/tools/python/latest/api/ai_document/models/oci.ai_document.models.DocumentDetails.html#oci.ai_document.models.DocumentDetails)\n",
    "    - [models.InlineDocumentDetails()](https://docs.oracle.com/en-us/iaas/tools/python/2.141.0/api/ai_document/models/oci.ai_document.models.InlineDocumentDetails.html#oci.ai_document.models.InlineDocumentDetails)"
   ]
  },
  {
   "cell_type": "code",
   "execution_count": 8,
   "metadata": {},
   "outputs": [],
   "source": [
    "analyze_document_response = ai_document_client.analyze_document(\n",
    "    analyze_document_details=oci.ai_document.models.AnalyzeDocumentDetails(\n",
    "        features=[\n",
    "            #oci.ai_document.models.DocumentKeyValueExtractionFeature(\n",
    "            oci.ai_document.models.DocumentTextExtractionFeature(\n",
    "                feature_type=\"TEXT_EXTRACTION\") # テキスト抽出機能を指定する\n",
    "        ],\n",
    "        document=oci.ai_document.models.InlineDocumentDetails(\n",
    "            source=\"INLINE\", # インラインドキュメントを指定する\n",
    "            data=encoded_string), # 画像ファイルをbase64エンコードした文字列を指定する\n",
    "        compartment_id=os.getenv(\"OCI_COMPARTMENT_ID\"), # コンパートメントIDを指定する\n",
    "    )\n",
    ")\n"
   ]
  },
  {
   "cell_type": "markdown",
   "metadata": {},
   "source": [
    "### 分析結果の取得とファイル出力\n",
    "参考ドキュメント\n",
    "- [models.AnalyzeDocumentResult()](https://docs.oracle.com/en-us/iaas/tools/python/latest/api/ai_document/models/oci.ai_document.models.AnalyzeDocumentResult.html#oci.ai_document.models.AnalyzeDocumentResult)\n",
    "    - [models.Page()](https://docs.oracle.com/en-us/iaas/tools/python/latest/api/ai_document/models/oci.ai_document.models.Page.html#oci.ai_document.models.Page)"
   ]
  },
  {
   "cell_type": "code",
   "execution_count": null,
   "metadata": {},
   "outputs": [],
   "source": [
    "# レスポンスからOCRデータを取得\n",
    "ocr_result = analyze_document_response.data\n",
    "with open(output_file, 'w', encoding='utf-8') as f:\n",
    "    f.write(str(ocr_result))\n",
    "\n",
    "print(f\"OCR結果を {output_file} に保存しました。\")"
   ]
  },
  {
   "cell_type": "markdown",
   "metadata": {},
   "source": [
    "### ページ数の表示"
   ]
  },
  {
   "cell_type": "code",
   "execution_count": null,
   "metadata": {},
   "outputs": [],
   "source": [
    "print(len(ocr_result.pages))"
   ]
  },
  {
   "cell_type": "markdown",
   "metadata": {},
   "source": [
    "### 入力画像のディメンジョンの表示（高さ、幅、単位）\n",
    "（この例では1ページ目（インデックスが\"0\"）のみを表示）"
   ]
  },
  {
   "cell_type": "code",
   "execution_count": null,
   "metadata": {},
   "outputs": [],
   "source": [
    "print(ocr_result.pages[0].dimensions.unit)\n",
    "print(ocr_result.pages[0].dimensions.height)\n",
    "print(ocr_result.pages[0].dimensions.width)\n",
    "\n",
    "\n"
   ]
  },
  {
   "cell_type": "markdown",
   "metadata": {},
   "source": [
    "### 抽出した行数の表示\n",
    "（この例では1ページ目（インデックスが\"0\"）に含まれる行数のみを表示）"
   ]
  },
  {
   "cell_type": "code",
   "execution_count": null,
   "metadata": {},
   "outputs": [],
   "source": [
    "print(len(ocr_result.pages[0].lines))"
   ]
  },
  {
   "cell_type": "markdown",
   "metadata": {},
   "source": [
    "### 抽出した行のテキストの表示\n",
    "(この例では1ページ目（インデックスが\"0\"）のすべての行の信頼度スコアとテキストを表示)"
   ]
  },
  {
   "cell_type": "code",
   "execution_count": null,
   "metadata": {},
   "outputs": [],
   "source": [
    "for i, line in enumerate(ocr_result.pages[0].lines):\n",
    "    print(f\"行 {i+1}:信頼度スコア:{line.confidence}:テキスト: {line.text} :\")"
   ]
  },
  {
   "cell_type": "markdown",
   "metadata": {},
   "source": [
    "### 行の境界ポリゴンの座標の表示\n",
    "(この例では1ページ目（インデックスが\"0\"）のすべての行のテキストと境界ポリゴンの座標を表示)"
   ]
  },
  {
   "cell_type": "code",
   "execution_count": null,
   "metadata": {},
   "outputs": [],
   "source": [
    "for i, line in enumerate(ocr_result.pages[0].lines):\n",
    "    print(f\"\\n行 {i+1}: {line.text}\")\n",
    "    print(f\"座標: {line.bounding_polygon.normalized_vertices}\")"
   ]
  },
  {
   "cell_type": "markdown",
   "metadata": {},
   "source": [
    "### 単語数の表示\n",
    "（この例では1ページ目（インデックスが\"0\"）に含まれる単語数のみを表示）"
   ]
  },
  {
   "cell_type": "code",
   "execution_count": null,
   "metadata": {},
   "outputs": [],
   "source": [
    "print(len(ocr_result.pages[0].words))"
   ]
  },
  {
   "cell_type": "markdown",
   "metadata": {},
   "source": [
    "### 抽出した単語のテキストの表示\n",
    "(この例では1ページ目（インデックスが\"0\"）のすべての単語の信頼度スコアとテキストを表示)"
   ]
  },
  {
   "cell_type": "code",
   "execution_count": null,
   "metadata": {},
   "outputs": [],
   "source": [
    "for i, word in enumerate(ocr_result.pages[0].words):\n",
    "    print(f\"行 {i+1}:信頼度スコア:{word.confidence}:テキスト: {word.text} :\")"
   ]
  },
  {
   "cell_type": "markdown",
   "metadata": {},
   "source": [
    "### 抽出した単語の境界ポリゴンの座標の表示\n",
    "(この例では1ページ目（インデックスが\"0\"）のすべての単語のテキストと境界ポリゴンの座標を表示)"
   ]
  },
  {
   "cell_type": "code",
   "execution_count": null,
   "metadata": {},
   "outputs": [],
   "source": [
    "for i, word in enumerate(ocr_result.pages[0].words):\n",
    "    print(f\"\\n単語 {i+1}: {word.text}\")\n",
    "    print(f\"座標: {word.bounding_polygon.normalized_vertices}\")"
   ]
  },
  {
   "cell_type": "code",
   "execution_count": null,
   "metadata": {},
   "outputs": [],
   "source": []
  }
 ],
 "metadata": {
  "kernelspec": {
   "display_name": ".venv",
   "language": "python",
   "name": "python3"
  },
  "language_info": {
   "codemirror_mode": {
    "name": "ipython",
    "version": 3
   },
   "file_extension": ".py",
   "mimetype": "text/x-python",
   "name": "python",
   "nbconvert_exporter": "python",
   "pygments_lexer": "ipython3",
   "version": "3.11.9"
  }
 },
 "nbformat": 4,
 "nbformat_minor": 2
}
